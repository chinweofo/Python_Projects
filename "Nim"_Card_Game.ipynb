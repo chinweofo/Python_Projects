{
  "nbformat": 4,
  "nbformat_minor": 0,
  "metadata": {
    "colab": {
      "provenance": [],
      "authorship_tag": "ABX9TyMpQWc3S/u83X+mR6zAutEd",
      "include_colab_link": true
    },
    "kernelspec": {
      "name": "python3",
      "display_name": "Python 3"
    },
    "language_info": {
      "name": "python"
    }
  },
  "cells": [
    {
      "cell_type": "markdown",
      "metadata": {
        "id": "view-in-github",
        "colab_type": "text"
      },
      "source": [
        "<a href=\"https://colab.research.google.com/github/chinweofo/Python_Projects/blob/main/%22Nim%22_Card_Game.ipynb\" target=\"_parent\"><img src=\"https://colab.research.google.com/assets/colab-badge.svg\" alt=\"Open In Colab\"/></a>"
      ]
    },
    {
      "cell_type": "code",
      "source": [
        "pip install pyinputplus"
      ],
      "metadata": {
        "id": "262amx84CJG6",
        "colab": {
          "base_uri": "https://localhost:8080/"
        },
        "outputId": "2cd45eba-ecc4-4943-e00e-1e944cfe8690"
      },
      "execution_count": null,
      "outputs": [
        {
          "output_type": "stream",
          "name": "stdout",
          "text": [
            "Collecting pyinputplus\n",
            "  Downloading PyInputPlus-0.2.12.tar.gz (20 kB)\n",
            "  Installing build dependencies ... \u001b[?25l\u001b[?25hdone\n",
            "  Getting requirements to build wheel ... \u001b[?25l\u001b[?25hdone\n",
            "    Preparing wheel metadata ... \u001b[?25l\u001b[?25hdone\n",
            "Collecting stdiomask>=0.0.3\n",
            "  Downloading stdiomask-0.0.6.tar.gz (3.6 kB)\n",
            "  Installing build dependencies ... \u001b[?25l\u001b[?25hdone\n",
            "  Getting requirements to build wheel ... \u001b[?25l\u001b[?25hdone\n",
            "    Preparing wheel metadata ... \u001b[?25l\u001b[?25hdone\n",
            "Collecting pysimplevalidate>=0.2.7\n",
            "  Downloading PySimpleValidate-0.2.12.tar.gz (22 kB)\n",
            "  Installing build dependencies ... \u001b[?25l\u001b[?25hdone\n",
            "  Getting requirements to build wheel ... \u001b[?25l\u001b[?25hdone\n",
            "    Preparing wheel metadata ... \u001b[?25l\u001b[?25hdone\n",
            "Building wheels for collected packages: pyinputplus, pysimplevalidate, stdiomask\n",
            "  Building wheel for pyinputplus (PEP 517) ... \u001b[?25l\u001b[?25hdone\n",
            "  Created wheel for pyinputplus: filename=PyInputPlus-0.2.12-py3-none-any.whl size=11315 sha256=2ba04117ffebdf638ada6f44dda8408f72bc47329ee36c3c87ab11ef085ea80a\n",
            "  Stored in directory: /root/.cache/pip/wheels/e7/33/73/719f8f1bd984d39face880fd22f6c5ef1b85f726e84c687094\n",
            "  Building wheel for pysimplevalidate (PEP 517) ... \u001b[?25l\u001b[?25hdone\n",
            "  Created wheel for pysimplevalidate: filename=PySimpleValidate-0.2.12-py3-none-any.whl size=16193 sha256=0fce073123b88d9797ab2465e9d6bda27b1a29631776cef59ee7cbf0b3ed059f\n",
            "  Stored in directory: /root/.cache/pip/wheels/5a/8b/6c/2925d22b93860bdc9b8ce02c3d2cf79336606f7469cef66065\n",
            "  Building wheel for stdiomask (PEP 517) ... \u001b[?25l\u001b[?25hdone\n",
            "  Created wheel for stdiomask: filename=stdiomask-0.0.6-py3-none-any.whl size=3321 sha256=bfb34bc0a34ffbdf6d28b4b06ddc6ca35c798c48c7826395a998792f3be48a82\n",
            "  Stored in directory: /root/.cache/pip/wheels/cf/13/89/64d0d3b167759523f4c1e68f883bbc30e7bfa27050edeb418e\n",
            "Successfully built pyinputplus pysimplevalidate stdiomask\n",
            "Installing collected packages: stdiomask, pysimplevalidate, pyinputplus\n",
            "Successfully installed pyinputplus-0.2.12 pysimplevalidate-0.2.12 stdiomask-0.0.6\n"
          ]
        }
      ]
    },
    {
      "cell_type": "code",
      "source": [
        "import pyinputplus as pyip"
      ],
      "metadata": {
        "id": "SWLTt5swFKhM"
      },
      "execution_count": null,
      "outputs": []
    },
    {
      "cell_type": "markdown",
      "source": [
        "13 black cards, 1 red card\n",
        "\n",
        "whoever gets the red wins\n",
        "\n",
        "subtract 1 - 3 on the computer side\n",
        "\n",
        "computer subtracts 4 from however many the user took\n",
        "\n",
        "make a list"
      ],
      "metadata": {
        "id": "Es0Ay3LZBd8v"
      }
    },
    {
      "cell_type": "code",
      "execution_count": null,
      "metadata": {
        "id": "FB7ao0dFBb4h",
        "colab": {
          "base_uri": "https://localhost:8080/"
        },
        "outputId": "fcafbc42-2483-4933-f7e7-b4eb6fdd6b33"
      },
      "outputs": [
        {
          "output_type": "stream",
          "name": "stdout",
          "text": [
            "Card Deck: [1, 2, 3, 4, 5, 6, 7, 8, 9, 10, 11, 12, 13, 14]\n",
            "How many cards would you like to start with? 1, 2, or 3: 3\n",
            "Choose your first card 1\n",
            "Choose your second card 2\n",
            "Choose your third card 3\n",
            "your hand: [1, 2, 3]\n",
            "computer list: [11]\n",
            "current cards available: [4, 5, 6, 7, 8, 9, 10, 12, 13, 14]\n",
            "How many cards would you like for your turn? 1, 2, or 3: 2\n",
            "Choose your first card 4\n",
            "Choose your second card 5\n",
            "your hand: [1, 2, 3, 4, 5]\n",
            "computer list: [11, 12, 13]\n",
            "current cards available: [6, 7, 8, 9, 10, 14]\n",
            "How many cards would you like for your turn? 1, 2, or 3: 1\n",
            "Choose your first card 6\n",
            "your hand: [1, 2, 3, 4, 5, 6]\n",
            "computer list: [11, 12, 13, 8, 7, 9]\n",
            "current cards available: [10, 14]\n",
            "Computer wins the game!\n"
          ]
        }
      ],
      "source": [
        "card_deck = [1, 2, 3, 4, 5, 6, 7, 8, 9, 10, 11, 12, 13, 14]\n",
        "user_list = []\n",
        "comp_list = []\n",
        "\n",
        "\n",
        "print(f\"Card Deck: {card_deck}\")\n",
        "print(\"You can only choose 3 cards at a time\")\n",
        "user = int(input(\"How many cards would you like to start with? 1, 2, or 3: \"))\n",
        "\n",
        "import random\n",
        "\n",
        "def remove_card_1:\n",
        "  \n",
        "\n",
        "\n",
        "while True:\n",
        "  if user == 1:\n",
        "    guess_1 = int(input(\"Choose your first card \"))\n",
        "    for x in card_deck:\n",
        "      if guess_1 in card_deck:\n",
        "        card_deck.remove(guess_1)\n",
        "    user_list.append(guess_1)\n",
        "    #This has the computer choose 3 random cards and remove it form the deck\n",
        "    random_card = random.choice(card_deck)\n",
        "    card_deck.remove(random_card)\n",
        "    random_card_2 = random.choice(card_deck)\n",
        "    card_deck.remove(random_card_2)\n",
        "    random_card_3 = random.choice(card_deck)\n",
        "    card_deck.remove(random_card_3)\n",
        "    #Adds removed cards to the computer list\n",
        "    comp_list.append(random_card)\n",
        "    comp_list.append(random_card_2)\n",
        "    comp_list.append(random_card_3)\n",
        "    #Prints out the current hand and available cards\n",
        "    print(f\"your hand: {user_list}\")\n",
        "    print(f\"computer hand: {comp_list}\")\n",
        "    print(f\"current cards available: {card_deck}\")\n",
        "    #Checks to see the amount of cards is 2, then prints that the computer wins\n",
        "    if len(card_deck) == 2:\n",
        "      print(\"Computer wins the game!\")\n",
        "      break\n",
        "    user = int(input(\"How many cards would you like for your turn? 1, 2, or 3: \"))\n",
        "  elif user == 2:\n",
        "    guess_1 = int(input(\"Choose your first card \"))\n",
        "    guess_2 = int(input(\"Choose your second card \"))\n",
        "    for x in card_deck:\n",
        "      if guess_1 in card_deck:\n",
        "        card_deck.remove(guess_1)\n",
        "      if guess_2 in card_deck:\n",
        "        card_deck.remove(guess_2)\n",
        "    user_list.append(guess_1)\n",
        "    user_list.append(guess_2)\n",
        "    #This has the computer choose 2 random cards and remove it form the deck\n",
        "    random_card = random.choice(card_deck)\n",
        "    card_deck.remove(random_card)\n",
        "    random_card_2 = random.choice(card_deck)\n",
        "    card_deck.remove(random_card_2)\n",
        "    #Adds removed cards to the computer list\n",
        "    comp_list.append(random_card)\n",
        "    comp_list.append(random_card_2)\n",
        "    #Prints out the current hand and available cards\n",
        "    print(f\"your hand: {user_list}\")\n",
        "    print(f\"computer hand: {comp_list}\")\n",
        "    print(f\"current cards available: {card_deck}\")\n",
        "    #Checks to see the amount of cards is 2, then prints that the computer wins\n",
        "    if len(card_deck) == 2:\n",
        "      print(\"Computer wins the game!\")\n",
        "      break\n",
        "    user = int(input(\"How many cards would you like for your turn? 1, 2, or 3: \"))\n",
        "  elif user == 3:\n",
        "    guess_1 = int(input(\"Choose your first card \"))\n",
        "    guess_2 = int(input(\"Choose your second card \"))\n",
        "    guess_3 = int(input(\"Choose your third card \"))\n",
        "    for x in card_deck:\n",
        "      if guess_1 in card_deck:\n",
        "        card_deck.remove(guess_1)\n",
        "      if guess_2 in card_deck:\n",
        "        card_deck.remove(guess_2)\n",
        "      if guess_3 in card_deck:\n",
        "        card_deck.remove(guess_3)\n",
        "    user_list.append(guess_1)\n",
        "    user_list.append(guess_2)\n",
        "    user_list.append(guess_3)\n",
        "    #This has the computer choose 3 random cards and remove it form the deck\n",
        "    random_card = random.choice(card_deck)\n",
        "    card_deck.remove(random_card)\n",
        "    #Adds removed cards to the computer list\n",
        "    comp_list.append(random_card)\n",
        "    print(f\"your hand: {user_list}\")\n",
        "    print(f\"computer hand: {comp_list}\")\n",
        "    print(f\"current cards available: {card_deck}\")\n",
        "    #Checks to see the amount of cards is 2, then prints that the computer wins\n",
        "    if len(card_deck) == 2:\n",
        "      print(\"Computer wins the game!\")\n",
        "      break\n",
        "    user = int(input(\"How many cards would you like for your turn? 1, 2, or 3: \"))\n",
        "\n",
        "\n",
        "#Use functions and replace random card shuffler"
      ]
    }
  ]
}